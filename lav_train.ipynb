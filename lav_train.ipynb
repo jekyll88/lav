{
  "cells": [
    {
      "cell_type": "markdown",
      "metadata": {
        "id": "gpY-9ehVv70N"
      },
      "source": [
        "# LAV BEV Training on Colab\n",
        "\n",
        "<table class=\"tfo-notebook-buttons\" align=\"left\">\n",
        "  <td>\n",
        "    <a target=\"_blank\" href=\"https://colab.research.google.com/github/MichaelBosello/carla-colab/blob/master/carla-simulator.ipynb\">\n",
        "    <img src=\"https://www.tensorflow.org/images/colab_logo_32px.png\" />\n",
        "    Run in Google Colab</a>\n",
        "  </td>\n",
        "</table>"
      ]
    },
    {
      "cell_type": "markdown",
      "metadata": {
        "id": "Tsln_9Oc4rUR"
      },
      "source": [
        "---\n",
        "---\n",
        "\n",
        "## Introduction\n",
        "[Carla](https://github.com/carla-simulator/carla) is an open-source simulator for autonomous driving research.\n",
        "\n",
        "Since it is hardware demanding, it could be useful for students to run it on colab.\n",
        "\n",
        "---\n",
        "\n",
        "## Acknowledgements\n",
        "\n",
        "Thanks to *Tomohiro*  for developing the code that allows remote access to colab.\n",
        "Check out his [page](https://internet-of-tomohiro.netlify.app/google_colab/vnc.en.html) and [GitHub](https://github.com/demotomohiro/remocolab).\n",
        "\n"
      ]
    },
    {
      "cell_type": "markdown",
      "metadata": {
        "id": "-YdPX4a3_XFg"
      },
      "source": [
        "## Installation \n",
        "\n",
        "4. Wait the end of the process\n",
        "  *\n",
        "\n"
      ]
    },
    {
      "cell_type": "code",
      "execution_count": null,
      "metadata": {
        "id": "w4Ywwr43AGR9",
        "vscode": {
          "languageId": "python"
        }
      },
      "outputs": [],
      "source": [
        "# !nvidia-smi # list your current GPU\n"
      ]
    },
    {
      "cell_type": "markdown",
      "metadata": {
        "id": "d3OWsY6jNQqJ"
      },
      "source": [
        "## Download Jekyll's LAV\n",
        "\n",
        "Clone myown LAV from(https://github.com/jekyll88/lav)\n"
      ]
    },
    {
      "cell_type": "code",
      "execution_count": 1,
      "metadata": {
        "id": "rI7R3brAJgyQ",
        "vscode": {
          "languageId": "python"
        },
        "colab": {
          "base_uri": "https://localhost:8080/"
        },
        "outputId": "9665f2a7-b78f-4844-8d56-f6cf605a5782"
      },
      "outputs": [
        {
          "output_type": "stream",
          "name": "stdout",
          "text": [
            "Cloning into 'lav'...\n",
            "remote: Enumerating objects: 1972, done.\u001b[K\n",
            "remote: Counting objects: 100% (1972/1972), done.\u001b[K\n",
            "remote: Compressing objects: 100% (1838/1838), done.\u001b[K\n",
            "remote: Total 1972 (delta 128), reused 1964 (delta 123), pack-reused 0\u001b[K\n",
            "Receiving objects: 100% (1972/1972), 34.55 MiB | 26.76 MiB/s, done.\n",
            "Resolving deltas: 100% (128/128), done.\n"
          ]
        }
      ],
      "source": [
        "! git clone https://github.com/jekyll88/lav.git\n"
      ]
    },
    {
      "cell_type": "markdown",
      "metadata": {
        "id": "5jsE5t9G6nY4"
      },
      "source": [
        "## Install requirements\n"
      ]
    },
    {
      "cell_type": "code",
      "source": [
        "!pip3 install -r lav/requirements.txt"
      ],
      "metadata": {
        "id": "FBs4-M013pIo"
      },
      "execution_count": null,
      "outputs": []
    },
    {
      "cell_type": "markdown",
      "metadata": {
        "id": "AozeZpibPB6u"
      },
      "source": [
        "## Install necessary packages"
      ]
    },
    {
      "cell_type": "code",
      "execution_count": null,
      "metadata": {
        "id": "rfRiKysEL3eR",
        "vscode": {
          "languageId": "python"
        }
      },
      "outputs": [],
      "source": [
        "#!wget https://github.com/jekyll88/lav/blob/main/carla/dist/carla-0.9.13-cp37-cp37m-manylinux_2_27_x86_64.whl\n",
        "\n",
        "!pip3 install lav/carla/dist/carla-0.9.13-cp37-cp37m-manylinux_2_27_x86_64.whl\n",
        "!pip3 install -r lav/environment.yaml\n",
        "import sys\n",
        "sys.path.append('/content/lav')"
      ]
    },
    {
      "cell_type": "markdown",
      "metadata": {
        "id": "BFrH9p95pjg2"
      },
      "source": [
        "## Preparing Data\n"
      ]
    },
    {
      "cell_type": "code",
      "execution_count": 6,
      "metadata": {
        "id": "FA5rNhxpp0zw",
        "vscode": {
          "languageId": "python"
        }
      },
      "outputs": [],
      "source": [
        "import tqdm\n",
        "import torch\n",
        "from lav.lav_privileged import LAV\n",
        "from lav.utils.datasets import get_data_loader\n",
        "from lav.utils.logger import Logger\n"
      ]
    },
    {
      "cell_type": "markdown",
      "metadata": {
        "id": "m7kFVqEfT59y"
      },
      "source": [
        "## Training"
      ]
    },
    {
      "cell_type": "code",
      "execution_count": 7,
      "metadata": {
        "id": "qz4MypzAvltW",
        "vscode": {
          "languageId": "python"
        },
        "colab": {
          "base_uri": "https://localhost:8080/",
          "height": 270
        },
        "outputId": "61dfc519-c0e8-44cc-bad3-a07c414869de"
      },
      "outputs": [
        {
          "output_type": "error",
          "ename": "NameError",
          "evalue": "ignored",
          "traceback": [
            "\u001b[0;31m---------------------------------------------------------------------------\u001b[0m",
            "\u001b[0;31mNameError\u001b[0m                                 Traceback (most recent call last)",
            "\u001b[0;32m<ipython-input-7-c558a052eb12>\u001b[0m in \u001b[0;36m<module>\u001b[0;34m()\u001b[0m\n\u001b[1;32m      2\u001b[0m \u001b[0;31m#drive.mount('/content/drive')\u001b[0m\u001b[0;34m\u001b[0m\u001b[0;34m\u001b[0m\u001b[0;34m\u001b[0m\u001b[0m\n\u001b[1;32m      3\u001b[0m \u001b[0;34m\u001b[0m\u001b[0m\n\u001b[0;32m----> 4\u001b[0;31m \u001b[0mdmd\u001b[0m \u001b[0;34m=\u001b[0m \u001b[0mLAV\u001b[0m\u001b[0;34m(\u001b[0m\u001b[0margs\u001b[0m\u001b[0;34m)\u001b[0m\u001b[0;34m\u001b[0m\u001b[0;34m\u001b[0m\u001b[0m\n\u001b[0m\u001b[1;32m      5\u001b[0m \u001b[0mdata_loader\u001b[0m \u001b[0;34m=\u001b[0m \u001b[0mget_data_loader\u001b[0m\u001b[0;34m(\u001b[0m\u001b[0;34m'bev'\u001b[0m\u001b[0;34m,\u001b[0m \u001b[0margs\u001b[0m\u001b[0;34m)\u001b[0m\u001b[0;34m\u001b[0m\u001b[0;34m\u001b[0m\u001b[0m\n\u001b[1;32m      6\u001b[0m \u001b[0mlogger\u001b[0m \u001b[0;34m=\u001b[0m \u001b[0mLogger\u001b[0m\u001b[0;34m(\u001b[0m\u001b[0;34m'lav_bev'\u001b[0m\u001b[0;34m,\u001b[0m \u001b[0margs\u001b[0m\u001b[0;34m)\u001b[0m\u001b[0;34m\u001b[0m\u001b[0;34m\u001b[0m\u001b[0m\n",
            "\u001b[0;31mNameError\u001b[0m: name 'args' is not defined"
          ]
        }
      ],
      "source": [
        "#from google.colab import drive\n",
        "#drive.mount('/content/drive')\n",
        "\n",
        "dmd = LAV(args)\n",
        "data_loader = get_data_loader('bev', args)\n",
        "logger = Logger('lav_bev', args)\n",
        "save_dir = logger.save_dir\n",
        "\n",
        "torch.manual_seed(args.seed)\n",
        "\n",
        "# logger.watch_model(dmd.uniplanner)\n",
        "\n",
        "global_it = 0\n",
        "for epoch in range(args.num_epoch):\n",
        "    for data in tqdm.tqdm(data_loader, desc=f'Epoch {epoch}'):\n",
        "\n",
        "        opt_info = dmd.train_bev(*data)\n",
        "\n",
        "        if global_it % args.num_per_log == 0:\n",
        "            logger.log_bev_info(global_it, opt_info)\n",
        "\n",
        "        global_it += 1\n",
        "\n",
        "    dmd.bev_scheduler.step()\n",
        "\n",
        "    if (epoch+1) % args.num_per_save == 0:\n",
        "        bev_path = f'{save_dir}/bev_{epoch+1}.th'\n",
        "        torch.save(dmd.state_dict('bev'), bev_path)\n",
        "        print (f'save to {bev_path}')\n",
        "\n",
        "        logger.save([bev_path])"
      ]
    }
  ],
  "metadata": {
    "accelerator": "GPU",
    "colab": {
      "collapsed_sections": [],
      "name": "lav_train.ipynb",
      "provenance": []
    },
    "kernelspec": {
      "display_name": "Python 3",
      "name": "python3"
    }
  },
  "nbformat": 4,
  "nbformat_minor": 0
}