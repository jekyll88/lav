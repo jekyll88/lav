{
  "cells": [
    {
      "cell_type": "markdown",
      "metadata": {
        "id": "gpY-9ehVv70N"
      },
      "source": [
        "# LAV BEV Training on Colab\n",
        "\n",
        "<table class=\"tfo-notebook-buttons\" align=\"left\">\n",
        "  <td>\n",
        "    <a target=\"_blank\" href=\"https://colab.research.google.com/github/MichaelBosello/carla-colab/blob/master/carla-simulator.ipynb\">\n",
        "    <img src=\"https://www.tensorflow.org/images/colab_logo_32px.png\" />\n",
        "    Run in Google Colab</a>\n",
        "  </td>\n",
        "</table>"
      ]
    },
    {
      "cell_type": "markdown",
      "metadata": {
        "id": "Tsln_9Oc4rUR"
      },
      "source": [
        "---\n",
        "---\n",
        "\n",
        "## Introduction\n",
        "[Carla](https://github.com/carla-simulator/carla) is an open-source simulator for autonomous driving research.\n",
        "\n",
        "Since it is hardware demanding, it could be useful for students to run it on colab.\n",
        "\n",
        "---\n"
      ]
    },
    {
      "cell_type": "markdown",
      "metadata": {
        "id": "5jsE5t9G6nY4"
      },
      "source": [
        "## Requirements\n",
        "\n",
        "*   Ssh client (already present in all recent os).\n"
      ]
    },
    {
      "cell_type": "markdown",
      "metadata": {
        "id": "-YdPX4a3_XFg"
      },
      "source": [
        "## Installation \n",
        "\n",
        "4. Wait the end of the process\n",
        "  * It sets up OpenSSH server, VirtualGL and TurboVNC.\n",
        "  * Then, access passwords are shown\n",
        "\n"
      ]
    },
    {
      "cell_type": "code",
      "execution_count": null,
      "metadata": {
        "id": "w4Ywwr43AGR9",
        "vscode": {
          "languageId": "python"
        }
      },
      "outputs": [],
      "source": []
    },
    {
      "cell_type": "markdown",
      "metadata": {
        "id": "d3OWsY6jNQqJ"
      },
      "source": [
        "## Download CARLA\n",
        "\n",
        "If you need another [version](https://github.com/carla-simulator/carla/blob/master/Docs/download.md) of CARLA, change the link below. You must choose a Linux version.\n",
        "\n"
      ]
    },
    {
      "cell_type": "code",
      "execution_count": null,
      "metadata": {
        "id": "rI7R3brAJgyQ",
        "vscode": {
          "languageId": "python"
        }
      },
      "outputs": [],
      "source": []
    },
    {
      "cell_type": "markdown",
      "metadata": {
        "id": "AozeZpibPB6u"
      },
      "source": [
        "## Extract the zip"
      ]
    },
    {
      "cell_type": "code",
      "execution_count": null,
      "metadata": {
        "id": "rfRiKysEL3eR",
        "vscode": {
          "languageId": "python"
        }
      },
      "outputs": [],
      "source": [
        "#! sudo -u colab mkdir /home/colab/carla\n",
        "#! sudo -u colab tar -xf /home/colab/CARLA.tar.gz -C /home/colab/carla"
      ]
    },
    {
      "cell_type": "markdown",
      "metadata": {
        "id": "BFrH9p95pjg2"
      },
      "source": [
        "## Preparing Data\n"
      ]
    },
    {
      "cell_type": "code",
      "execution_count": null,
      "metadata": {
        "id": "FA5rNhxpp0zw",
        "vscode": {
          "languageId": "python"
        }
      },
      "outputs": [],
      "source": [
        "import tqdm\n",
        "import torch\n",
        "from lav.lav_privileged import LAV\n",
        "from lav.utils.datasets import get_data_loader\n",
        "from lav.utils.logger import Logger\n"
      ]
    },
    {
      "cell_type": "markdown",
      "metadata": {
        "id": "m7kFVqEfT59y"
      },
      "source": [
        "## Training"
      ]
    },
    {
      "cell_type": "code",
      "execution_count": null,
      "metadata": {
        "id": "qz4MypzAvltW",
        "vscode": {
          "languageId": "python"
        }
      },
      "outputs": [],
      "source": [
        "#from google.colab import drive\n",
        "#drive.mount('/content/drive')\n",
        "\n",
        "# Import some useful packages for this homework\n",
        "\n",
        "\n",
        "# !nvidia-smi # list your current GPU\n"
      ]
    }
  ],
  "metadata": {
    "accelerator": "GPU",
    "colab": {
      "collapsed_sections": [],
      "name": "carla-simulator.ipynb",
      "provenance": [],
      "toc_visible": true
    },
    "kernelspec": {
      "display_name": "Python 3",
      "name": "python3"
    }
  },
  "nbformat": 4,
  "nbformat_minor": 0
}
