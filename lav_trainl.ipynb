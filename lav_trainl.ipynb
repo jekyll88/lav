{
  "cells": [
    {
      "cell_type": "markdown",
      "metadata": {
        "id": "gpY-9ehVv70N"
      },
      "source": [
        "# LAV BEV Training on Colab\n",
        "\n",
        "<table class=\"tfo-notebook-buttons\" align=\"left\">\n",
        "  <td>\n",
        "    <a target=\"_blank\" href=\"https://colab.research.google.com/github/MichaelBosello/carla-colab/blob/master/carla-simulator.ipynb\">\n",
        "    <img src=\"https://www.tensorflow.org/images/colab_logo_32px.png\" />\n",
        "    Run in Google Colab</a>\n",
        "  </td>\n",
        "</table>"
      ]
    },
    {
      "cell_type": "markdown",
      "metadata": {
        "id": "Tsln_9Oc4rUR"
      },
      "source": [
        "---\n",
        "---\n",
        "\n",
        "## Introduction\n",
        "[Carla](https://github.com/carla-simulator/carla) is an open-source simulator for autonomous driving research.\n",
        "\n",
        "Since it is hardware demanding, it could be useful for students to run it on colab.\n",
        "\n",
        "---\n",
        "\n",
        "## Acknowledgements\n",
        "\n",
        "Thanks to *Tomohiro*  for developing the code that allows remote access to colab.\n",
        "Check out his [page](https://internet-of-tomohiro.netlify.app/google_colab/vnc.en.html) and [GitHub](https://github.com/demotomohiro/remocolab).\n",
        "\n"
      ]
    },
    {
      "cell_type": "markdown",
      "metadata": {
        "id": "5jsE5t9G6nY4"
      },
      "source": [
        "## Requirements\n",
        "\n",
        "*   Ssh client (already present in all recent os).\n"
      ]
    },
    {
      "cell_type": "markdown",
      "metadata": {
        "id": "-YdPX4a3_XFg"
      },
      "source": [
        "## Installation \n",
        "\n",
        "4. Wait the end of the process\n",
        "  * It sets up OpenSSH server, VirtualGL and TurboVNC.\n",
        "  * Then, access passwords are shown\n",
        "\n"
      ]
    },
    {
      "cell_type": "code",
      "execution_count": null,
      "metadata": {
        "id": "w4Ywwr43AGR9",
        "vscode": {
          "languageId": "python"
        }
      },
      "outputs": [],
      "source": [
        ""
      ]
    },
    {
      "cell_type": "markdown",
      "metadata": {
        "id": "d3OWsY6jNQqJ"
      },
      "source": [
        "## Download Jekyll's LAV\n",
        "\n",
        "Clone myown LAV from(https://github.com/jekyll88/lav)\n"
      ]
    },
    {
      "cell_type": "code",
      "execution_count": 4,
      "metadata": {
        "id": "rI7R3brAJgyQ",
        "vscode": {
          "languageId": "python"
        },
        "colab": {
          "base_uri": "https://localhost:8080/"
        },
        "outputId": "e560610a-b237-43c8-97af-edc1c5b08508"
      },
      "outputs": [
        {
          "output_type": "stream",
          "name": "stdout",
          "text": [
            "Cloning into 'lav'...\n",
            "Host key verification failed.\r\n",
            "fatal: Could not read from remote repository.\n",
            "\n",
            "Please make sure you have the correct access rights\n",
            "and the repository exists.\n"
          ]
        }
      ],
      "source": [
        "! git clone git@github.com:jekyll88/lav.git"
      ]
    },
    {
      "cell_type": "markdown",
      "metadata": {
        "id": "AozeZpibPB6u"
      },
      "source": [
        "## Extract the zip"
      ]
    },
    {
      "cell_type": "code",
      "execution_count": null,
      "metadata": {
        "id": "rfRiKysEL3eR",
        "vscode": {
          "languageId": "python"
        }
      },
      "outputs": [],
      "source": [
        "#! sudo -u colab mkdir /home/colab/carla\n",
        "#! sudo -u colab tar -xf /home/colab/CARLA.tar.gz -C /home/colab/carla"
      ]
    },
    {
      "cell_type": "markdown",
      "metadata": {
        "id": "BFrH9p95pjg2"
      },
      "source": [
        "## Preparing Data\n"
      ]
    },
    {
      "cell_type": "code",
      "execution_count": 1,
      "metadata": {
        "id": "FA5rNhxpp0zw",
        "vscode": {
          "languageId": "python"
        },
        "colab": {
          "base_uri": "https://localhost:8080/",
          "height": 374
        },
        "outputId": "7e528ba4-a86c-4116-f55e-9ffa9fa7ee6b"
      },
      "outputs": [
        {
          "output_type": "error",
          "ename": "ModuleNotFoundError",
          "evalue": "ignored",
          "traceback": [
            "\u001b[0;31m---------------------------------------------------------------------------\u001b[0m",
            "\u001b[0;31mModuleNotFoundError\u001b[0m                       Traceback (most recent call last)",
            "\u001b[0;32m<ipython-input-1-7faab60a49e4>\u001b[0m in \u001b[0;36m<module>\u001b[0;34m()\u001b[0m\n\u001b[1;32m      1\u001b[0m \u001b[0;32mimport\u001b[0m \u001b[0mtqdm\u001b[0m\u001b[0;34m\u001b[0m\u001b[0;34m\u001b[0m\u001b[0m\n\u001b[1;32m      2\u001b[0m \u001b[0;32mimport\u001b[0m \u001b[0mtorch\u001b[0m\u001b[0;34m\u001b[0m\u001b[0;34m\u001b[0m\u001b[0m\n\u001b[0;32m----> 3\u001b[0;31m \u001b[0;32mfrom\u001b[0m \u001b[0mlav\u001b[0m\u001b[0;34m.\u001b[0m\u001b[0mlav_privileged\u001b[0m \u001b[0;32mimport\u001b[0m \u001b[0mLAV\u001b[0m\u001b[0;34m\u001b[0m\u001b[0;34m\u001b[0m\u001b[0m\n\u001b[0m\u001b[1;32m      4\u001b[0m \u001b[0;32mfrom\u001b[0m \u001b[0mlav\u001b[0m\u001b[0;34m.\u001b[0m\u001b[0mutils\u001b[0m\u001b[0;34m.\u001b[0m\u001b[0mdatasets\u001b[0m \u001b[0;32mimport\u001b[0m \u001b[0mget_data_loader\u001b[0m\u001b[0;34m\u001b[0m\u001b[0;34m\u001b[0m\u001b[0m\n\u001b[1;32m      5\u001b[0m \u001b[0;32mfrom\u001b[0m \u001b[0mlav\u001b[0m\u001b[0;34m.\u001b[0m\u001b[0mutils\u001b[0m\u001b[0;34m.\u001b[0m\u001b[0mlogger\u001b[0m \u001b[0;32mimport\u001b[0m \u001b[0mLogger\u001b[0m\u001b[0;34m\u001b[0m\u001b[0;34m\u001b[0m\u001b[0m\n",
            "\u001b[0;31mModuleNotFoundError\u001b[0m: No module named 'lav'",
            "",
            "\u001b[0;31m---------------------------------------------------------------------------\u001b[0;32m\nNOTE: If your import is failing due to a missing package, you can\nmanually install dependencies using either !pip or !apt.\n\nTo view examples of installing some common dependencies, click the\n\"Open Examples\" button below.\n\u001b[0;31m---------------------------------------------------------------------------\u001b[0m\n"
          ],
          "errorDetails": {
            "actions": [
              {
                "action": "open_url",
                "actionText": "Open Examples",
                "url": "/notebooks/snippets/importing_libraries.ipynb"
              }
            ]
          }
        }
      ],
      "source": [
        "import tqdm\n",
        "import torch\n",
        "from lav.lav_privileged import LAV\n",
        "from lav.utils.datasets import get_data_loader\n",
        "from lav.utils.logger import Logger\n"
      ]
    },
    {
      "cell_type": "markdown",
      "metadata": {
        "id": "m7kFVqEfT59y"
      },
      "source": [
        "## Training"
      ]
    },
    {
      "cell_type": "code",
      "execution_count": null,
      "metadata": {
        "id": "qz4MypzAvltW",
        "vscode": {
          "languageId": "python"
        }
      },
      "outputs": [],
      "source": [
        "#from google.colab import drive\n",
        "#drive.mount('/content/drive')\n",
        "\n",
        "# Import some useful packages for this homework\n",
        "\n",
        "\n",
        "# !nvidia-smi # list your current GPU\n"
      ]
    }
  ],
  "metadata": {
    "accelerator": "GPU",
    "colab": {
      "collapsed_sections": [],
      "name": "lav_trainl.ipynb",
      "provenance": []
    },
    "kernelspec": {
      "display_name": "Python 3",
      "name": "python3"
    }
  },
  "nbformat": 4,
  "nbformat_minor": 0
}